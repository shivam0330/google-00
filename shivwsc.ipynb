{
  "nbformat": 4,
  "nbformat_minor": 0,
  "metadata": {
    "colab": {
      "name": "shivwsc.ipynb",
      "provenance": [],
      "collapsed_sections": [],
      "authorship_tag": "ABX9TyNoVw7YJokn3WcV4xJR0MvM",
      "include_colab_link": true
    },
    "kernelspec": {
      "name": "python3",
      "display_name": "Python 3"
    },
    "language_info": {
      "name": "python"
    }
  },
  "cells": [
    {
      "cell_type": "markdown",
      "metadata": {
        "id": "view-in-github",
        "colab_type": "text"
      },
      "source": [
        "<a href=\"https://colab.research.google.com/github/shivam0330/google-00/blob/main/shivwsc.ipynb\" target=\"_parent\"><img src=\"https://colab.research.google.com/assets/colab-badge.svg\" alt=\"Open In Colab\"/></a>"
      ]
    },
    {
      "cell_type": "code",
      "execution_count": null,
      "metadata": {
        "id": "3F-wHH2NQVhX",
        "colab": {
          "base_uri": "https://localhost:8080/"
        },
        "outputId": "c5b74c90-445e-4aed-c27e-7a7a6e02326c"
      },
      "outputs": [
        {
          "output_type": "stream",
          "name": "stdout",
          "text": [
            "30\n"
          ]
        }
      ],
      "source": [
        "a=10\n",
        "b=20\n",
        "c=a+b\n",
        "print(c)"
      ]
    },
    {
      "cell_type": "code",
      "source": [
        "a=50\n",
        "b=45\n",
        "remainder=a/b\n",
        "quotient=a//b\n",
        "print(remainder)\n",
        "print(quotient)"
      ],
      "metadata": {
        "colab": {
          "base_uri": "https://localhost:8080/"
        },
        "id": "GUvwcHLsWMLE",
        "outputId": "c9c72dac-c7ae-4206-ffb2-66900bf51026"
      },
      "execution_count": null,
      "outputs": [
        {
          "output_type": "stream",
          "name": "stdout",
          "text": [
            "1.1111111111111112\n",
            "1\n"
          ]
        }
      ]
    },
    {
      "cell_type": "code",
      "source": [
        "a=45\n",
        "b=20\n",
        "c=35\n",
        "avg=a+b+c/3\n",
        "print(avg)"
      ],
      "metadata": {
        "colab": {
          "base_uri": "https://localhost:8080/"
        },
        "id": "-l93ZV50XBH2",
        "outputId": "3470c0e0-b3aa-4809-9f8c-18ce095dc0c4"
      },
      "execution_count": null,
      "outputs": [
        {
          "output_type": "stream",
          "name": "stdout",
          "text": [
            "76.66666666666667\n"
          ]
        }
      ]
    },
    {
      "cell_type": "code",
      "source": [
        "a=68\n",
        "b=75\n",
        "c=80\n",
        "d=89\n",
        "e=91\n",
        "add=a+b+c+d+e\n",
        "sum=add/500*100\n",
        "print (add)\n",
        "print(sum)"
      ],
      "metadata": {
        "colab": {
          "base_uri": "https://localhost:8080/"
        },
        "id": "vlR3B2RAXUtv",
        "outputId": "fd0cdeb7-04ac-45b0-caff-8a8685613b0b"
      },
      "execution_count": null,
      "outputs": [
        {
          "output_type": "stream",
          "name": "stdout",
          "text": [
            "403\n",
            "80.60000000000001\n"
          ]
        }
      ]
    },
    {
      "cell_type": "code",
      "source": [
        "salary=10000\n",
        "hra=500\n",
        "epf=1000\n",
        "grosssalary=salary+hra+epf\n",
        "print(grosssalary)"
      ],
      "metadata": {
        "colab": {
          "base_uri": "https://localhost:8080/"
        },
        "id": "xVBWLLPnrR0B",
        "outputId": "4cee56c8-8f35-41bf-e83e-5b3ca0d06893"
      },
      "execution_count": null,
      "outputs": [
        {
          "output_type": "stream",
          "name": "stdout",
          "text": [
            "11500\n"
          ]
        }
      ]
    },
    {
      "cell_type": "code",
      "source": [
        "r=5\n",
        "area=3.14*r*r\n",
        "print(area)"
      ],
      "metadata": {
        "colab": {
          "base_uri": "https://localhost:8080/"
        },
        "id": "jLagnf8ysYXs",
        "outputId": "bebaea2a-34f3-4242-f598-7e3c253a094b"
      },
      "execution_count": null,
      "outputs": [
        {
          "output_type": "stream",
          "name": "stdout",
          "text": [
            "78.5\n"
          ]
        }
      ]
    },
    {
      "cell_type": "code",
      "source": [
        "l=30\n",
        "b=10\n",
        "area=l*b\n",
        "print(area)"
      ],
      "metadata": {
        "colab": {
          "base_uri": "https://localhost:8080/"
        },
        "id": "e5EOOpuvs1iR",
        "outputId": "d8c7d8be-c3e3-4114-e6aa-369da1cb341b"
      },
      "execution_count": null,
      "outputs": [
        {
          "output_type": "stream",
          "name": "stdout",
          "text": [
            "300\n"
          ]
        }
      ]
    },
    {
      "cell_type": "code",
      "source": [
        "a=50\n",
        "area=a*a\n",
        "print(area)"
      ],
      "metadata": {
        "colab": {
          "base_uri": "https://localhost:8080/"
        },
        "id": "2AbMEM3ktERY",
        "outputId": "42e181e9-4702-4a71-cb55-a7b18bd054f7"
      },
      "execution_count": null,
      "outputs": [
        {
          "output_type": "stream",
          "name": "stdout",
          "text": [
            "2500\n"
          ]
        }
      ]
    },
    {
      "cell_type": "code",
      "source": [
        "r=35\n",
        "area=3.14*r*r\n",
        "circumfurance=2*3.14*r\n",
        "print(area)\n",
        "print(circumfurance)"
      ],
      "metadata": {
        "colab": {
          "base_uri": "https://localhost:8080/"
        },
        "id": "sliMk7gqtcId",
        "outputId": "bdf3d35f-dc77-4c03-8fc9-895c5bf2e90c"
      },
      "execution_count": null,
      "outputs": [
        {
          "output_type": "stream",
          "name": "stdout",
          "text": [
            "3846.5\n",
            "219.8\n"
          ]
        }
      ]
    },
    {
      "cell_type": "code",
      "source": [
        "a=10\n",
        "b=30\n",
        "area=1/2*a*b\n",
        "print(area)"
      ],
      "metadata": {
        "colab": {
          "base_uri": "https://localhost:8080/"
        },
        "id": "TLgN0Cs9uD_h",
        "outputId": "8b847b18-4088-4a17-87ae-a074aa7c0ec5"
      },
      "execution_count": null,
      "outputs": [
        {
          "output_type": "stream",
          "name": "stdout",
          "text": [
            "150.0\n"
          ]
        }
      ]
    },
    {
      "cell_type": "code",
      "source": [
        "l=10\n",
        "b=21\n",
        "a=1/2*l*b\n",
        "print(a)"
      ],
      "metadata": {
        "colab": {
          "base_uri": "https://localhost:8080/"
        },
        "id": "HoQ8OFVhuh8F",
        "outputId": "09af15c3-20c1-48d2-dfd7-476a8c1fe3e2"
      },
      "execution_count": null,
      "outputs": [
        {
          "output_type": "stream",
          "name": "stdout",
          "text": [
            "105.0\n"
          ]
        }
      ]
    },
    {
      "cell_type": "code",
      "source": [
        "#trapezium\n",
        "a=10\n",
        "b=21\n",
        "c=15\n",
        "area=1/2*(a+b)*c\n",
        "print(area)"
      ],
      "metadata": {
        "colab": {
          "base_uri": "https://localhost:8080/"
        },
        "id": "DYhk9rR3vYMx",
        "outputId": "3d21ad11-85b0-40f6-a788-99c3a41c2a40"
      },
      "execution_count": null,
      "outputs": [
        {
          "output_type": "stream",
          "name": "stdout",
          "text": [
            "232.5\n"
          ]
        }
      ]
    },
    {
      "cell_type": "code",
      "source": [
        "#rhomus\n",
        "a=10\n",
        "b=21\n",
        "area=a*b/2\n",
        "print(area)"
      ],
      "metadata": {
        "colab": {
          "base_uri": "https://localhost:8080/"
        },
        "id": "dRqwfvOjwiAa",
        "outputId": "90c7e54f-f706-4651-fe7f-be41f352cead"
      },
      "execution_count": null,
      "outputs": [
        {
          "output_type": "stream",
          "name": "stdout",
          "text": [
            "105.0\n"
          ]
        }
      ]
    },
    {
      "cell_type": "code",
      "source": [
        "#parallelogram\n",
        "a=50\n",
        "b=40\n",
        "area=a*b\n",
        "print (area)"
      ],
      "metadata": {
        "colab": {
          "base_uri": "https://localhost:8080/"
        },
        "id": "pGKwOTJczR0T",
        "outputId": "72cb8bce-8a6a-44ba-ad3c-e95e4cc08e09"
      },
      "execution_count": null,
      "outputs": [
        {
          "output_type": "stream",
          "name": "stdout",
          "text": [
            "2000\n"
          ]
        }
      ]
    },
    {
      "cell_type": "code",
      "source": [
        "#cube\n",
        "s=20\n",
        "volume=s*s*s\n",
        "surfacearea=6*s*s\n",
        "print(volume)\n",
        "print(surfacearea)"
      ],
      "metadata": {
        "colab": {
          "base_uri": "https://localhost:8080/"
        },
        "id": "CR06vvMS0uYq",
        "outputId": "27cd02aa-0d52-4f3f-df8a-7cebefa12678"
      },
      "execution_count": null,
      "outputs": [
        {
          "output_type": "stream",
          "name": "stdout",
          "text": [
            "8000\n",
            "2400\n"
          ]
        }
      ]
    },
    {
      "cell_type": "code",
      "source": [
        "#cuboid\n",
        "l=10\n",
        "b=15\n",
        "h=20\n",
        "sa=2*(l*b+b*h+h*l)\n",
        "vol=l*b*h\n",
        "print(sa)\n",
        "print(vol)"
      ],
      "metadata": {
        "colab": {
          "base_uri": "https://localhost:8080/"
        },
        "id": "09K017HA18O9",
        "outputId": "b076926a-1452-410f-d878-ecac6ced2042"
      },
      "execution_count": null,
      "outputs": [
        {
          "output_type": "stream",
          "name": "stdout",
          "text": [
            "1300\n",
            "3000\n"
          ]
        }
      ]
    },
    {
      "cell_type": "code",
      "source": [
        "#perimeter\n",
        "#circle\n",
        "r=20\n",
        "per=2*3.14*20\n",
        "print(per)\n",
        "#rectangle\n",
        "l=30\n",
        "b=40\n",
        "per=2*(l+b)\n",
        "print(per)\n",
        "#triangle\n",
        "a=10\n",
        "b=20\n",
        "c=15\n",
        "per=a+b+c\n",
        "print(per)\n"
      ],
      "metadata": {
        "colab": {
          "base_uri": "https://localhost:8080/"
        },
        "id": "cRw1Gn0J4FSV",
        "outputId": "d80ab6d5-a32e-4662-aaca-4519237ee2eb"
      },
      "execution_count": null,
      "outputs": [
        {
          "output_type": "stream",
          "name": "stdout",
          "text": [
            "125.60000000000001\n",
            "140\n",
            "45\n"
          ]
        }
      ]
    },
    {
      "cell_type": "code",
      "source": [
        "#simple intrest\n",
        "p=1000\n",
        "r=5\n",
        "t=3\n",
        "si=(p*r*t)/100\n",
        "print(si)"
      ],
      "metadata": {
        "id": "VLQjRs7t-Dc6",
        "colab": {
          "base_uri": "https://localhost:8080/"
        },
        "outputId": "389250f5-6812-4e9c-8975-7d7ce5bf3c2b"
      },
      "execution_count": null,
      "outputs": [
        {
          "output_type": "stream",
          "name": "stdout",
          "text": [
            "150.0\n"
          ]
        }
      ]
    },
    {
      "cell_type": "code",
      "source": [
        "#fahrenheit\n",
        "f=56\n",
        "c=(f-32)*5/9\n",
        "print(c)"
      ],
      "metadata": {
        "colab": {
          "base_uri": "https://localhost:8080/"
        },
        "id": "-WlgwhhS-v6G",
        "outputId": "7795ea42-0ac8-49a9-ee43-75196dd1ec83"
      },
      "execution_count": null,
      "outputs": [
        {
          "output_type": "stream",
          "name": "stdout",
          "text": [
            "13.333333333333334\n"
          ]
        }
      ]
    },
    {
      "cell_type": "code",
      "source": [
        "#gravitation\n",
        "m1=5600\n",
        "m2=9600\n",
        "g=6.637*(10**-11)\n",
        "r=10\n",
        "f=(g*m1*m2)/(r**2)\n",
        "print(f)"
      ],
      "metadata": {
        "colab": {
          "base_uri": "https://localhost:8080/"
        },
        "id": "C3rntNdN-wnU",
        "outputId": "894ce9d9-4be1-42b6-89f3-2a18c44ce2f2"
      },
      "execution_count": null,
      "outputs": [
        {
          "output_type": "stream",
          "name": "stdout",
          "text": [
            "3.568051199999999e-05\n"
          ]
        }
      ]
    },
    {
      "cell_type": "code",
      "source": [
        "#swap\n",
        "x=10\n",
        "y=15\n",
        "x,y=y,x\n",
        "print(\"x=\",x)\n",
        "print(\"y=\",y)"
      ],
      "metadata": {
        "colab": {
          "base_uri": "https://localhost:8080/"
        },
        "id": "lXT1ExfK_5w8",
        "outputId": "a0ba7395-321c-4e0d-f1a6-1df7448d196b"
      },
      "execution_count": null,
      "outputs": [
        {
          "output_type": "stream",
          "name": "stdout",
          "text": [
            "x= 15\n",
            "y= 10\n"
          ]
        }
      ]
    },
    {
      "cell_type": "code",
      "source": [
        "#modulo division\n",
        "a=8\n",
        "b=-3\n",
        "c=a%b\n",
        "print(c)"
      ],
      "metadata": {
        "colab": {
          "base_uri": "https://localhost:8080/"
        },
        "id": "vmy9TFRRBX2t",
        "outputId": "22bd6199-f41f-4c78-9a87-cc9b40e9a67e"
      },
      "execution_count": null,
      "outputs": [
        {
          "output_type": "stream",
          "name": "stdout",
          "text": [
            "-1\n"
          ]
        }
      ]
    },
    {
      "cell_type": "code",
      "source": [
        "#greater than\n",
        "a=10\n",
        "b=6\n",
        "c=a>b\n",
        "print(c)"
      ],
      "metadata": {
        "colab": {
          "base_uri": "https://localhost:8080/"
        },
        "id": "TXGIcDbBBo86",
        "outputId": "0cabd069-0a9e-4ad9-9349-19b21991d309"
      },
      "execution_count": null,
      "outputs": [
        {
          "output_type": "stream",
          "name": "stdout",
          "text": [
            "True\n"
          ]
        }
      ]
    },
    {
      "cell_type": "code",
      "source": [
        "#less then\n",
        "a=50\n",
        "b=45\n",
        "c=b<a\n",
        "print(c)"
      ],
      "metadata": {
        "colab": {
          "base_uri": "https://localhost:8080/"
        },
        "id": "qS1PmAQVB3-V",
        "outputId": "1ed9f94f-3af9-45e1-c9f0-e679da653cb0"
      },
      "execution_count": null,
      "outputs": [
        {
          "output_type": "stream",
          "name": "stdout",
          "text": [
            "True\n"
          ]
        }
      ]
    },
    {
      "cell_type": "code",
      "source": [
        "#not equal to\n",
        "a=10\n",
        "b=30\n",
        "c=a!=b\n",
        "print(c)"
      ],
      "metadata": {
        "colab": {
          "base_uri": "https://localhost:8080/"
        },
        "id": "2dl51-qFCGPM",
        "outputId": "4cb9afb6-25ec-4a5c-b2b0-a09a6abb8b13"
      },
      "execution_count": null,
      "outputs": [
        {
          "output_type": "stream",
          "name": "stdout",
          "text": [
            "True\n"
          ]
        }
      ]
    },
    {
      "cell_type": "code",
      "source": [
        "#greater than equal to\n",
        "a=50\n",
        "b=20\n",
        "c=a>=b\n",
        "print(c)"
      ],
      "metadata": {
        "colab": {
          "base_uri": "https://localhost:8080/"
        },
        "id": "X4-qYB-lCZHf",
        "outputId": "a29281d2-cf3f-4961-9bed-55c6726ce3c3"
      },
      "execution_count": null,
      "outputs": [
        {
          "output_type": "stream",
          "name": "stdout",
          "text": [
            "True\n"
          ]
        }
      ]
    },
    {
      "cell_type": "code",
      "source": [
        "#bitwise and\n",
        "a=15\n",
        "b=17\n",
        "c=a&b\n",
        "print(c)"
      ],
      "metadata": {
        "colab": {
          "base_uri": "https://localhost:8080/"
        },
        "id": "5H-1ytGQC2ut",
        "outputId": "42d5ad52-2e04-4b63-f160-a2a74e0817b3"
      },
      "execution_count": null,
      "outputs": [
        {
          "output_type": "stream",
          "name": "stdout",
          "text": [
            "1\n"
          ]
        }
      ]
    },
    {
      "cell_type": "code",
      "source": [
        "#.format\n",
        "a=10\n",
        "b=2\n",
        "c=a+b\n",
        "print(\"the sum of two values a={}and b={}=\".format(a,b),c)"
      ],
      "metadata": {
        "id": "kLnpsxDDDMy4",
        "colab": {
          "base_uri": "https://localhost:8080/"
        },
        "outputId": "f0fba474-c324-45d6-ac33-7ffe37d15057"
      },
      "execution_count": 1,
      "outputs": [
        {
          "output_type": "stream",
          "name": "stdout",
          "text": [
            "the sum of two values a=10and b=2= 12\n"
          ]
        }
      ]
    },
    {
      "cell_type": "code",
      "source": [
        "#not equal to\n",
        "a=8\n",
        "b=3\n",
        "c=a!=b\n",
        "print(c)"
      ],
      "metadata": {
        "colab": {
          "base_uri": "https://localhost:8080/"
        },
        "id": "lMNlfKfN72kY",
        "outputId": "c0614a8a-f581-4c37-bb2e-f04294c47c50"
      },
      "execution_count": 2,
      "outputs": [
        {
          "output_type": "stream",
          "name": "stdout",
          "text": [
            "True\n"
          ]
        }
      ]
    },
    {
      "cell_type": "code",
      "source": [
        "#bitwise and operator\n",
        "a=15\n",
        "b=17\n",
        "c=a&b\n",
        "print(c)"
      ],
      "metadata": {
        "colab": {
          "base_uri": "https://localhost:8080/"
        },
        "id": "VH2cuPZD722V",
        "outputId": "6f35c08f-312a-4848-f440-17865059817b"
      },
      "execution_count": 3,
      "outputs": [
        {
          "output_type": "stream",
          "name": "stdout",
          "text": [
            "1\n"
          ]
        }
      ]
    },
    {
      "cell_type": "code",
      "source": [
        ""
      ],
      "metadata": {
        "id": "zQKKLUmA73D8"
      },
      "execution_count": null,
      "outputs": []
    },
    {
      "cell_type": "code",
      "source": [
        ""
      ],
      "metadata": {
        "id": "rr1eppEm73P8"
      },
      "execution_count": null,
      "outputs": []
    }
  ]
}